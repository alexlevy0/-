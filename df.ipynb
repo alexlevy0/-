{
  "nbformat": 4,
  "nbformat_minor": 0,
  "metadata": {
    "colab": {
      "provenance": [],
      "gpuType": "T4"
    },
    "kernelspec": {
      "name": "python3",
      "display_name": "Python 3"
    },
    "language_info": {
      "name": "python"
    },
    "accelerator": "GPU"
  },
  "cells": [
    {
      "cell_type": "code",
      "source": [
        "import os\n",
        "from google.colab import files\n",
        "\n",
        "mapping_table = str.maketrans({'(': '', ')': '', ' ': '_'})\n",
        "\n",
        "def rename_file(original_path):\n",
        "    directory, filename = os.path.split(original_path)\n",
        "    new_name = filename.translate(mapping_table)\n",
        "    new_path = os.path.join(directory, new_name)\n",
        "    os.rename(original_path, new_path)\n",
        "    return new_path\n",
        "\n",
        "source = files.upload()\n",
        "target = files.upload()\n",
        "\n",
        "def create_output_path(source, target):\n",
        "    if not source or not target:\n",
        "        return \"\", \"\", \"No source or target files have been downloaded\"\n",
        "\n",
        "    source_filename = next(iter(source))\n",
        "    source_path = os.path.join(\"/content\", source_filename)\n",
        "    source_path = rename_file(source_path)\n",
        "\n",
        "    target_filename = next(iter(target))\n",
        "    target_path = os.path.join(\"/content\", target_filename)\n",
        "    target_path = rename_file(target_path)\n",
        "\n",
        "    output_filename = f\"{os.path.splitext(os.path.basename(target_path))[0]}-{os.path.splitext(os.path.basename(source_path))[0]}.mp4\"\n",
        "    output_filename = output_filename.translate(mapping_table)\n",
        "\n",
        "    return source_path, target_path, output_filename\n",
        "\n",
        "source_path, target_path, output = create_output_path(source, target)\n",
        "\n",
        "print(\"source_path:\", source_path)\n",
        "print(\"target_path:\", target_path)\n",
        "print(\"output:\", output)"
      ],
      "metadata": {
        "id": "714lbx2hQiOz"
      },
      "execution_count": null,
      "outputs": []
    },
    {
      "cell_type": "code",
      "execution_count": null,
      "metadata": {
        "id": "t1yPuhdySqCq",
        "collapsed": true
      },
      "outputs": [],
      "source": [
        "!git clone https://github.com/s0md3v/roop\n",
        "%cd roop\n",
        "!pip install onnxruntime-gpu && pip install -r requirements.txt\n",
        "!wget https://civitai.com/api/download/models/85159 -O inswapper_128.onnx"
      ]
    },
    {
      "cell_type": "code",
      "source": [
        "command = f\"python run.py -s '{source_path}' -t '{target_path}' -o '{output}' --keep-fps --output-video-quality 18 --execution-provider cuda --frame-processor face_swapper face_enhancer\"\n",
        "\n",
        "print(command)\n",
        "\n",
        "!{command}"
      ],
      "metadata": {
        "id": "4exqmhqJWA3i"
      },
      "execution_count": null,
      "outputs": []
    },
    {
      "cell_type": "code",
      "source": [
        "!cp /content/roop/{output} /content\n",
        "%cd /content"
      ],
      "metadata": {
        "id": "RUMvVskKPuyW"
      },
      "execution_count": null,
      "outputs": []
    },
    {
      "cell_type": "code",
      "source": [
        "from google.colab import files\n",
        "files.download(output)"
      ],
      "metadata": {
        "id": "S6XX3sg0wNVR"
      },
      "execution_count": null,
      "outputs": []
    },
    {
      "cell_type": "code",
      "source": [
        "!rm /content/roop/*.mp4"
      ],
      "metadata": {
        "id": "OpLoXH1bTxAY"
      },
      "execution_count": null,
      "outputs": []
    }
  ]
}